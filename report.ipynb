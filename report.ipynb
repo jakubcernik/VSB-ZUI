{
 "cells": [
  {
   "metadata": {},
   "cell_type": "markdown",
   "source": "# Report k vypracování solverů pro hru 2048\n",
   "id": "117f690bb2831c65"
  },
  {
   "metadata": {},
   "cell_type": "markdown",
   "source": [
    "Pro začátek jsem si vyzkoušel samotnou hru hrát - pochopit pravidla, cíl a jak funguje. Poté jsem se n a googlu vyhledal nějaké obecné rady a tipy jak hru vyhrát. Nejednalo se ještě o algoritmická řešení, ale rady pro hráče. Mezi nimi bylo například aby jsem si udržovali největší hodnotu v jednom rohu, čehož poté využívám.\n",
    "\n",
    "Poté jsem využil ChatGPT 4o aby mi vypsalo příklady růžných algoritmických řešení pro hru 2048. Prošel jsem si popisy a vybral jsem 3, které mi přišly zajímavé a které jsem si chtěl vyzkoušet. Jednalo se o:\n",
    "- Greedy search\n",
    "- Snake pattern\n",
    "- Heuristic search\n",
    "- Monte Carlo Tree Search (nedokončeno)\n",
    "- Minimax (nedokončeno)\n",
    "- Reinforcement Learning (nedokončeno)\n",
    "\n",
    "Pro řešení byly využity v kombinaci tyto jazykové modely: ChatGPT 4o, ChatGPT 1o preview a Claude 3.7 Sonnet.\n",
    "Pro programování byl mnohem lepší Claude. Mnohé prompty vyřešil lépe a rychleji než ChatGPT. Také jsem měl pocit, že je více zaměřený na programování než ChatGPT. Naopak ChatGPT se mi více osvědčil na vysvětlení algoritmů a celé problematiky.\n",
    "\n",
    "Ani s pomocí AI se mi nepodařilo vyřešit všechny algoritmy. U některých jsem se dostal do slepé uličky a nevěděl jsem jak dál. Konkrétně - Monte Carlo Tree Search, Minimax, Reinforcement Learning. Tyto algoritmy se mi buď nedařilo implementovat nebo vyhazovaly nesmyslné výsledky nebo trvaly příliš dlouho. Proto jsem se rozhodl je nedokončovat a zaměřit se na ty, které fungovaly.\n",
    "\n",
    "# Popis algoritmů:\n",
    "\n",
    "## SnakePatternSolver\n",
    "Tento solver implementuje základní strategii založenou na tzv. \"snake patternu\", kde se dlaždice uspořádávají ve tvaru hada. Solver preferuje tahy doleva a dolů, čímž se snaží udržet nejvyšší hodnoty v jednom rohu a postupně je řadit do klesající posloupnosti. Tato jednoduchá strategie má jasně definované preferované tahy (vlevo, dolů) a nouzové tahy (nahoru, vpravo), které používá pouze když preferované tahy nejsou možné. Algoritmus nevyhodnocuje budoucí stavy hry ani neprovádí žádné komplexní výpočty - jednoduše sleduje předem definovaný vzor tahů.\n",
    "\n",
    "## GreedySearchSolver\n",
    "Solver používá greedy přístup, kde v každém kroku vybírá tah s nejvyšším okamžitým ohodnocením. Hodnocení stavu hry je založeno na třech faktorech:\n",
    "1. Dosažené skóre\n",
    "2. Počet prázdných buněk (více je lépe)\n",
    "3. Monotónnost uspořádání dlaždic (pomocí váhové matice)\n",
    "\n",
    "Solver simuluje každý možný tah a vybírá ten, který vede k nejlepšímu hodnocení a ten provede.\n",
    "\n",
    "## HeuristicSolver\n",
    "HeuristicSolver pravděpodobně využívá složitější heuristické funkce pro vyhodnocení stavů hry. Na rozdíl od GreedySearchSolver bude tento řešitel zohledňovat více aspektů herního stavu, jako například:\n",
    "Plynulost přechodů mezi sousedními dlaždicemi\n",
    "Koncentrace vysokých hodnot v určité části hrací desky\n",
    "Potenciál pro budoucí sloučení dlaždic\n",
    "Volný prostor pro následující tahy\n",
    "Tento řešitel má pravděpodobně propracovanější hodnotící funkci, která přiřazuje váhy různým aspektům stavu hry a může se dynamicky přizpůsobovat aktuální situaci na hrací desce.\n",
    "\n",
    "|                   | **time** | **win rate** | **min moves** | **max moves** | **avg moves** | **min score** | **max score** | **avg score** |\n",
    "|-------------------|----------|--------------|---------------|---------------|---------------|---------------|---------------|---------------|\n",
    "| **Snake Pattern** | 0.4min   | 0            | 34            | 563           | 215           | 264           | 15976         | 4805          |\n",
    "| **Greedy Search** | 0.7min   | 0            | 47            | 447           | 169           | 860           | 23808         | 6284          |\n",
    "| **Heuristic**     | 1.1min   | 0            | 64            | 473           | 197           | 1524          | 29368         | 8984          |\n",
    "\n",
    "\n",
    "Testováno na 1000 hrách.\n",
    "\n",
    "Na výsledcích jde vidět, že s úspěšností roste i čas. Tady se mi hezky povedlo postupně implementovat 3 algoritmy které se lineárně zlepšovaly."
   ],
   "id": "2a08eec8be696aaa"
  },
  {
   "metadata": {},
   "cell_type": "code",
   "outputs": [],
   "execution_count": null,
   "source": "",
   "id": "1a65e755d551d26e"
  }
 ],
 "metadata": {
  "kernelspec": {
   "display_name": "Python 3",
   "language": "python",
   "name": "python3"
  },
  "language_info": {
   "codemirror_mode": {
    "name": "ipython",
    "version": 2
   },
   "file_extension": ".py",
   "mimetype": "text/x-python",
   "name": "python",
   "nbconvert_exporter": "python",
   "pygments_lexer": "ipython2",
   "version": "2.7.6"
  }
 },
 "nbformat": 4,
 "nbformat_minor": 5
}
